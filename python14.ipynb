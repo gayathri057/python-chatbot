{
  "nbformat": 4,
  "nbformat_minor": 0,
  "metadata": {
    "colab": {
      "provenance": []
    },
    "kernelspec": {
      "name": "python3",
      "display_name": "Python 3"
    },
    "language_info": {
      "name": "python"
    }
  },
  "cells": [
    {
      "cell_type": "code",
      "execution_count": null,
      "metadata": {
        "colab": {
          "base_uri": "https://localhost:8080/"
        },
        "id": "-Utv09_clVKE",
        "outputId": "cc0db02d-9fb5-4328-bd96-0a1c8662d6c0"
      },
      "outputs": [
        {
          "output_type": "stream",
          "name": "stdout",
          "text": [
            "🤖 Tamizhan Skills Chatbot! (type 'exit' to quit)\n",
            "You: course list\n",
            "Bot: We offer courses in Python, Web Development, AI, and more.\n",
            "You: timing\n",
            "Bot: Sorry, I didn't understand that. Can you rephrase your question?\n",
            "You: timings\n",
            "Bot: Courses are usually scheduled in the evenings or on weekends.\n",
            "You: fees\n",
            "Bot: Most of our courses are free or available at a minimal cost.\n",
            "You: online\n",
            "Bot: Yes, most of our courses are available online.\n",
            "You: certificate\n",
            "Bot: Yes, you will receive a certificate after course completion.\n"
          ]
        }
      ],
      "source": [
        "# Simple Chatbot using if-else and dictionary logic\n",
        "\n",
        "responses = {\n",
        "    \"course list\": \"We offer courses in Python, Web Development, AI, and more.\",\n",
        "    \"timings\": \"Courses are usually scheduled in the evenings or on weekends.\",\n",
        "    \"fees\": \"Most of our courses are free or available at a minimal cost.\",\n",
        "    \"certificate\": \"Yes, you will receive a certificate after course completion.\",\n",
        "    \"contact\": \"You can contact us at support@tamizhanskills.com.\",\n",
        "    \"enroll\": \"Visit our website and click on the 'Enroll Now' button.\",\n",
        "    \"location\": \"We are located in Chennai, Tamil Nadu.\",\n",
        "    \"online\": \"Yes, most of our courses are available online.\"\n",
        "}\n",
        "\n",
        "# Basic pattern matching without external libraries\n",
        "def get_response(user_input):\n",
        "    user_input = user_input.lower()\n",
        "    for key in responses:\n",
        "        if key in user_input:\n",
        "            return responses[key]\n",
        "    return \"Sorry, I didn't understand that. Can you rephrase your question?\"\n",
        "\n",
        "# Chat loop\n",
        "print(\"🤖 Tamizhan Skills Chatbot! (type 'exit' to quit)\")\n",
        "while True:\n",
        "    user_input = input(\"You: \")\n",
        "    if user_input.lower() == \"exit\":\n",
        "        print(\"Bot: Goodbye! Have a great day.\")\n",
        "        break\n",
        "    response = get_response(user_input)\n",
        "    print(\"Bot:\", response)"
      ]
    }
  ]
}